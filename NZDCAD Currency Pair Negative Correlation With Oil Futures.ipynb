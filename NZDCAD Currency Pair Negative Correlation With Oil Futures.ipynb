{
 "cells": [
  {
   "cell_type": "markdown",
   "id": "acc19c2f",
   "metadata": {},
   "source": [
    "First, we will import the libraries we will use"
   ]
  },
  {
   "cell_type": "code",
   "execution_count": 16,
   "id": "6f082eec",
   "metadata": {},
   "outputs": [],
   "source": [
    "import pandas as pd\n",
    "from pandas import Series,DataFrame\n",
    "import numpy as np\n",
    "\n",
    "import matplotlib.pyplot as plt\n",
    "import seaborn as sns\n",
    "sns.set_style('whitegrid')\n",
    "%matplotlib inline\n",
    "\n",
    "\n",
    "import pandas_datareader.data as web\n",
    "import pandas_datareader as pdr\n",
    "from datetime import datetime"
   ]
  },
  {
   "cell_type": "markdown",
   "id": "3430cd5e",
   "metadata": {},
   "source": [
    "We will create a list with the assets we will compare, which in this case are the oil january 22 futures and the NZDCAD currency pair. "
   ]
  },
  {
   "cell_type": "code",
   "execution_count": 17,
   "id": "9b3ce148",
   "metadata": {},
   "outputs": [],
   "source": [
    "my_list = ['NZDCAD=X','CL=F']"
   ]
  },
  {
   "cell_type": "markdown",
   "id": "00170854",
   "metadata": {},
   "source": [
    "We state the time we will compare, we will use 10 years for relevant data, where we will see various market scenarios. "
   ]
  },
  {
   "cell_type": "code",
   "execution_count": 18,
   "id": "196b963f",
   "metadata": {},
   "outputs": [],
   "source": [
    "\n",
    "end = datetime.now()\n",
    "\n",
    "\n",
    "start = datetime(end.year-10,end.month,end.day) "
   ]
  },
  {
   "cell_type": "markdown",
   "id": "f1fafdfe",
   "metadata": {},
   "source": [
    "We use globals method to get our asset prices from the yahoo finance API"
   ]
  },
  {
   "cell_type": "code",
   "execution_count": 19,
   "id": "40edb0ec",
   "metadata": {},
   "outputs": [],
   "source": [
    "for currency in my_list:\n",
    "    globals()[currency.replace('=X', \"\")] = web.DataReader(currency,'yahoo',start,end) \n",
    "    \n",
    "for commodity in my_list:\n",
    "    globals()[commodity.replace('=F', \"\")] = web.DataReader(commodity,'yahoo',start,end) "
   ]
  },
  {
   "cell_type": "markdown",
   "id": "0ada107e",
   "metadata": {},
   "source": [
    "We will print the NZDCAD currency price info. Then same for the oil futures in a dataframe format"
   ]
  },
  {
   "cell_type": "code",
   "execution_count": 6,
   "id": "0e1958a4",
   "metadata": {},
   "outputs": [
    {
     "data": {
      "text/html": [
       "<div>\n",
       "<style scoped>\n",
       "    .dataframe tbody tr th:only-of-type {\n",
       "        vertical-align: middle;\n",
       "    }\n",
       "\n",
       "    .dataframe tbody tr th {\n",
       "        vertical-align: top;\n",
       "    }\n",
       "\n",
       "    .dataframe thead th {\n",
       "        text-align: right;\n",
       "    }\n",
       "</style>\n",
       "<table border=\"1\" class=\"dataframe\">\n",
       "  <thead>\n",
       "    <tr style=\"text-align: right;\">\n",
       "      <th></th>\n",
       "      <th>High</th>\n",
       "      <th>Low</th>\n",
       "      <th>Open</th>\n",
       "      <th>Close</th>\n",
       "      <th>Volume</th>\n",
       "      <th>Adj Close</th>\n",
       "    </tr>\n",
       "    <tr>\n",
       "      <th>Date</th>\n",
       "      <th></th>\n",
       "      <th></th>\n",
       "      <th></th>\n",
       "      <th></th>\n",
       "      <th></th>\n",
       "      <th></th>\n",
       "    </tr>\n",
       "  </thead>\n",
       "  <tbody>\n",
       "    <tr>\n",
       "      <th>2021-11-17</th>\n",
       "      <td>0.881791</td>\n",
       "      <td>0.87730</td>\n",
       "      <td>0.878120</td>\n",
       "      <td>0.87790</td>\n",
       "      <td>0.0</td>\n",
       "      <td>0.87790</td>\n",
       "    </tr>\n",
       "    <tr>\n",
       "      <th>2021-11-18</th>\n",
       "      <td>0.888742</td>\n",
       "      <td>0.88190</td>\n",
       "      <td>0.882988</td>\n",
       "      <td>0.88305</td>\n",
       "      <td>0.0</td>\n",
       "      <td>0.88305</td>\n",
       "    </tr>\n",
       "    <tr>\n",
       "      <th>2021-11-19</th>\n",
       "      <td>0.887430</td>\n",
       "      <td>0.88450</td>\n",
       "      <td>0.887358</td>\n",
       "      <td>0.88690</td>\n",
       "      <td>0.0</td>\n",
       "      <td>0.88690</td>\n",
       "    </tr>\n",
       "    <tr>\n",
       "      <th>2021-11-22</th>\n",
       "      <td>0.886330</td>\n",
       "      <td>0.88310</td>\n",
       "      <td>0.884380</td>\n",
       "      <td>0.88439</td>\n",
       "      <td>0.0</td>\n",
       "      <td>0.88439</td>\n",
       "    </tr>\n",
       "    <tr>\n",
       "      <th>2021-11-23</th>\n",
       "      <td>0.883900</td>\n",
       "      <td>0.87961</td>\n",
       "      <td>0.883210</td>\n",
       "      <td>0.88163</td>\n",
       "      <td>0.0</td>\n",
       "      <td>0.88163</td>\n",
       "    </tr>\n",
       "  </tbody>\n",
       "</table>\n",
       "</div>"
      ],
      "text/plain": [
       "                High      Low      Open    Close  Volume  Adj Close\n",
       "Date                                                               \n",
       "2021-11-17  0.881791  0.87730  0.878120  0.87790     0.0    0.87790\n",
       "2021-11-18  0.888742  0.88190  0.882988  0.88305     0.0    0.88305\n",
       "2021-11-19  0.887430  0.88450  0.887358  0.88690     0.0    0.88690\n",
       "2021-11-22  0.886330  0.88310  0.884380  0.88439     0.0    0.88439\n",
       "2021-11-23  0.883900  0.87961  0.883210  0.88163     0.0    0.88163"
      ]
     },
     "execution_count": 6,
     "metadata": {},
     "output_type": "execute_result"
    }
   ],
   "source": [
    "NZDCAD.tail()"
   ]
  },
  {
   "cell_type": "code",
   "execution_count": 7,
   "id": "2f4c97c1",
   "metadata": {},
   "outputs": [
    {
     "data": {
      "text/html": [
       "<div>\n",
       "<style scoped>\n",
       "    .dataframe tbody tr th:only-of-type {\n",
       "        vertical-align: middle;\n",
       "    }\n",
       "\n",
       "    .dataframe tbody tr th {\n",
       "        vertical-align: top;\n",
       "    }\n",
       "\n",
       "    .dataframe thead th {\n",
       "        text-align: right;\n",
       "    }\n",
       "</style>\n",
       "<table border=\"1\" class=\"dataframe\">\n",
       "  <thead>\n",
       "    <tr style=\"text-align: right;\">\n",
       "      <th></th>\n",
       "      <th>High</th>\n",
       "      <th>Low</th>\n",
       "      <th>Open</th>\n",
       "      <th>Close</th>\n",
       "      <th>Volume</th>\n",
       "      <th>Adj Close</th>\n",
       "    </tr>\n",
       "    <tr>\n",
       "      <th>Date</th>\n",
       "      <th></th>\n",
       "      <th></th>\n",
       "      <th></th>\n",
       "      <th></th>\n",
       "      <th></th>\n",
       "      <th></th>\n",
       "    </tr>\n",
       "  </thead>\n",
       "  <tbody>\n",
       "    <tr>\n",
       "      <th>2021-11-17</th>\n",
       "      <td>80.690002</td>\n",
       "      <td>77.690002</td>\n",
       "      <td>80.540001</td>\n",
       "      <td>78.360001</td>\n",
       "      <td>174471.0</td>\n",
       "      <td>78.360001</td>\n",
       "    </tr>\n",
       "    <tr>\n",
       "      <th>2021-11-18</th>\n",
       "      <td>79.360001</td>\n",
       "      <td>77.080002</td>\n",
       "      <td>78.339996</td>\n",
       "      <td>79.010002</td>\n",
       "      <td>83984.0</td>\n",
       "      <td>79.010002</td>\n",
       "    </tr>\n",
       "    <tr>\n",
       "      <th>2021-11-19</th>\n",
       "      <td>79.919998</td>\n",
       "      <td>75.370003</td>\n",
       "      <td>78.760002</td>\n",
       "      <td>76.099998</td>\n",
       "      <td>623448.0</td>\n",
       "      <td>76.099998</td>\n",
       "    </tr>\n",
       "    <tr>\n",
       "      <th>2021-11-22</th>\n",
       "      <td>77.160004</td>\n",
       "      <td>74.760002</td>\n",
       "      <td>75.750000</td>\n",
       "      <td>76.750000</td>\n",
       "      <td>623448.0</td>\n",
       "      <td>76.750000</td>\n",
       "    </tr>\n",
       "    <tr>\n",
       "      <th>2021-11-23</th>\n",
       "      <td>78.860001</td>\n",
       "      <td>75.300003</td>\n",
       "      <td>76.459999</td>\n",
       "      <td>78.639999</td>\n",
       "      <td>475081.0</td>\n",
       "      <td>78.639999</td>\n",
       "    </tr>\n",
       "  </tbody>\n",
       "</table>\n",
       "</div>"
      ],
      "text/plain": [
       "                 High        Low       Open      Close    Volume  Adj Close\n",
       "Date                                                                       \n",
       "2021-11-17  80.690002  77.690002  80.540001  78.360001  174471.0  78.360001\n",
       "2021-11-18  79.360001  77.080002  78.339996  79.010002   83984.0  79.010002\n",
       "2021-11-19  79.919998  75.370003  78.760002  76.099998  623448.0  76.099998\n",
       "2021-11-22  77.160004  74.760002  75.750000  76.750000  623448.0  76.750000\n",
       "2021-11-23  78.860001  75.300003  76.459999  78.639999  475081.0  78.639999"
      ]
     },
     "execution_count": 7,
     "metadata": {},
     "output_type": "execute_result"
    }
   ],
   "source": [
    "CL.tail()"
   ]
  },
  {
   "cell_type": "markdown",
   "id": "0083ff2e",
   "metadata": {},
   "source": [
    "We will see the the adjusted closing prices of both assets"
   ]
  },
  {
   "cell_type": "code",
   "execution_count": 8,
   "id": "ada3fed1",
   "metadata": {},
   "outputs": [],
   "source": [
    "close_df = web.DataReader(my_list,'yahoo',start,end)['Adj Close']"
   ]
  },
  {
   "cell_type": "markdown",
   "id": "58452db4",
   "metadata": {},
   "source": [
    "We will print both assets"
   ]
  },
  {
   "cell_type": "code",
   "execution_count": 9,
   "id": "0b2c9ff3",
   "metadata": {},
   "outputs": [
    {
     "data": {
      "text/html": [
       "<div>\n",
       "<style scoped>\n",
       "    .dataframe tbody tr th:only-of-type {\n",
       "        vertical-align: middle;\n",
       "    }\n",
       "\n",
       "    .dataframe tbody tr th {\n",
       "        vertical-align: top;\n",
       "    }\n",
       "\n",
       "    .dataframe thead th {\n",
       "        text-align: right;\n",
       "    }\n",
       "</style>\n",
       "<table border=\"1\" class=\"dataframe\">\n",
       "  <thead>\n",
       "    <tr style=\"text-align: right;\">\n",
       "      <th>Symbols</th>\n",
       "      <th>NZDCAD=X</th>\n",
       "      <th>CL=F</th>\n",
       "    </tr>\n",
       "    <tr>\n",
       "      <th>Date</th>\n",
       "      <th></th>\n",
       "      <th></th>\n",
       "    </tr>\n",
       "  </thead>\n",
       "  <tbody>\n",
       "    <tr>\n",
       "      <th>2021-11-17</th>\n",
       "      <td>0.87790</td>\n",
       "      <td>78.360001</td>\n",
       "    </tr>\n",
       "    <tr>\n",
       "      <th>2021-11-18</th>\n",
       "      <td>0.88305</td>\n",
       "      <td>79.010002</td>\n",
       "    </tr>\n",
       "    <tr>\n",
       "      <th>2021-11-19</th>\n",
       "      <td>0.88690</td>\n",
       "      <td>76.099998</td>\n",
       "    </tr>\n",
       "    <tr>\n",
       "      <th>2021-11-22</th>\n",
       "      <td>0.88439</td>\n",
       "      <td>76.750000</td>\n",
       "    </tr>\n",
       "    <tr>\n",
       "      <th>2021-11-23</th>\n",
       "      <td>0.88165</td>\n",
       "      <td>78.639999</td>\n",
       "    </tr>\n",
       "  </tbody>\n",
       "</table>\n",
       "</div>"
      ],
      "text/plain": [
       "Symbols     NZDCAD=X       CL=F\n",
       "Date                           \n",
       "2021-11-17   0.87790  78.360001\n",
       "2021-11-18   0.88305  79.010002\n",
       "2021-11-19   0.88690  76.099998\n",
       "2021-11-22   0.88439  76.750000\n",
       "2021-11-23   0.88165  78.639999"
      ]
     },
     "execution_count": 9,
     "metadata": {},
     "output_type": "execute_result"
    }
   ],
   "source": [
    "close_df.tail()"
   ]
  },
  {
   "cell_type": "markdown",
   "id": "4ec6630f",
   "metadata": {},
   "source": [
    "Then we will print the price differences or changes each day"
   ]
  },
  {
   "cell_type": "code",
   "execution_count": 10,
   "id": "bec007a9",
   "metadata": {},
   "outputs": [],
   "source": [
    "rets_df = close_df.pct_change()"
   ]
  },
  {
   "cell_type": "code",
   "execution_count": 20,
   "id": "b526c132",
   "metadata": {},
   "outputs": [
    {
     "data": {
      "text/html": [
       "<div>\n",
       "<style scoped>\n",
       "    .dataframe tbody tr th:only-of-type {\n",
       "        vertical-align: middle;\n",
       "    }\n",
       "\n",
       "    .dataframe tbody tr th {\n",
       "        vertical-align: top;\n",
       "    }\n",
       "\n",
       "    .dataframe thead th {\n",
       "        text-align: right;\n",
       "    }\n",
       "</style>\n",
       "<table border=\"1\" class=\"dataframe\">\n",
       "  <thead>\n",
       "    <tr style=\"text-align: right;\">\n",
       "      <th>Symbols</th>\n",
       "      <th>NZDCAD=X</th>\n",
       "      <th>CL=F</th>\n",
       "    </tr>\n",
       "    <tr>\n",
       "      <th>Date</th>\n",
       "      <th></th>\n",
       "      <th></th>\n",
       "    </tr>\n",
       "  </thead>\n",
       "  <tbody>\n",
       "    <tr>\n",
       "      <th>2021-11-17</th>\n",
       "      <td>-0.003179</td>\n",
       "      <td>-0.029718</td>\n",
       "    </tr>\n",
       "    <tr>\n",
       "      <th>2021-11-18</th>\n",
       "      <td>0.005866</td>\n",
       "      <td>0.008295</td>\n",
       "    </tr>\n",
       "    <tr>\n",
       "      <th>2021-11-19</th>\n",
       "      <td>0.004360</td>\n",
       "      <td>-0.036831</td>\n",
       "    </tr>\n",
       "    <tr>\n",
       "      <th>2021-11-22</th>\n",
       "      <td>-0.002830</td>\n",
       "      <td>0.008541</td>\n",
       "    </tr>\n",
       "    <tr>\n",
       "      <th>2021-11-23</th>\n",
       "      <td>-0.003098</td>\n",
       "      <td>0.024625</td>\n",
       "    </tr>\n",
       "  </tbody>\n",
       "</table>\n",
       "</div>"
      ],
      "text/plain": [
       "Symbols     NZDCAD=X      CL=F\n",
       "Date                          \n",
       "2021-11-17 -0.003179 -0.029718\n",
       "2021-11-18  0.005866  0.008295\n",
       "2021-11-19  0.004360 -0.036831\n",
       "2021-11-22 -0.002830  0.008541\n",
       "2021-11-23 -0.003098  0.024625"
      ]
     },
     "execution_count": 20,
     "metadata": {},
     "output_type": "execute_result"
    }
   ],
   "source": [
    "rets_df.tail()"
   ]
  },
  {
   "cell_type": "markdown",
   "id": "2072cf0a",
   "metadata": {},
   "source": [
    "Let's try creating a scatterplot to visualize any correlations between our assets' adjusted closing price changes per day. "
   ]
  },
  {
   "cell_type": "code",
   "execution_count": 21,
   "id": "e195ef23",
   "metadata": {
    "scrolled": true
   },
   "outputs": [
    {
     "name": "stderr",
     "output_type": "stream",
     "text": [
      "C:\\Users\\SANTIAGO\\anaconda3\\lib\\site-packages\\seaborn\\_decorators.py:36: FutureWarning: Pass the following variables as keyword args: x, y, data. From version 0.12, the only valid positional argument will be `data`, and passing other arguments without an explicit keyword will result in an error or misinterpretation.\n",
      "  warnings.warn(\n"
     ]
    },
    {
     "data": {
      "text/plain": [
       "<seaborn.axisgrid.JointGrid at 0x2884b0fe940>"
      ]
     },
     "execution_count": 21,
     "metadata": {},
     "output_type": "execute_result"
    },
    {
     "data": {
      "image/png": "[encoded data removed]",
      "text/plain": [
       "<Figure size 432x432 with 3 Axes>"
      ]
     },
     "metadata": {
      "needs_background": "light"
     },
     "output_type": "display_data"
    }
   ],
   "source": [
    "sns.jointplot(\"NZDCAD=X\",\"CL=F\",rets_df,kind='scatter',color='green')"
   ]
  },
  {
   "cell_type": "code",
   "execution_count": 23,
   "id": "07d61742",
   "metadata": {},
   "outputs": [
    {
     "data": {
      "text/plain": [
       "<AxesSubplot:xlabel='Symbols', ylabel='Symbols'>"
      ]
     },
     "execution_count": 23,
     "metadata": {},
     "output_type": "execute_result"
    },
    {
     "data": {
      "image/png": "[encoded data removed]",
      "text/plain": [
       "<Figure size 432x288 with 2 Axes>"
      ]
     },
     "metadata": {
      "needs_background": "light"
     },
     "output_type": "display_data"
    }
   ],
   "source": [
    "corr = rets_df.dropna().corr()\n",
    "mask = np.zeros_like(corr)\n",
    "mask[np.triu_indices_from(mask)] = True\n",
    "\n",
    "sns.heatmap(corr,cmap =sns.diverging_palette(256,0,sep=80,n=7,as_cmap=True),annot=True,mask=mask)"
   ]
  },
  {
   "cell_type": "code",
   "execution_count": null,
   "id": "49dbf790",
   "metadata": {},
   "outputs": [],
   "source": []
  },
  {
   "cell_type": "code",
   "execution_count": 14,
   "id": "bd9ac2c5",
   "metadata": {},
   "outputs": [
    {
     "data": {
      "text/plain": [
       "<AxesSubplot:xlabel='Date'>"
      ]
     },
     "execution_count": 14,
     "metadata": {},
     "output_type": "execute_result"
    },
    {
     "data": {
      "image/png": "[encoded data removed]",
      "text/plain": [
       "<Figure size 864x360 with 1 Axes>"
      ]
     },
     "metadata": {
      "needs_background": "light"
     },
     "output_type": "display_data"
    }
   ],
   "source": [
    "NZDCAD['Adj Close'].plot(legend=True,figsize=(12,5))"
   ]
  },
  {
   "cell_type": "code",
   "execution_count": 15,
   "id": "21b0832a",
   "metadata": {},
   "outputs": [
    {
     "data": {
      "text/plain": [
       "<AxesSubplot:xlabel='Date'>"
      ]
     },
     "execution_count": 15,
     "metadata": {},
     "output_type": "execute_result"
    },
    {
     "data": {
      "image/png": "[encoded data removed]",
      "text/plain": [
       "<Figure size 864x360 with 1 Axes>"
      ]
     },
     "metadata": {
      "needs_background": "light"
     },
     "output_type": "display_data"
    }
   ],
   "source": [
    "CL['Adj Close'].plot(legend=True,figsize=(12,5))"
   ]
  },
  {
   "cell_type": "markdown",
   "id": "aed5abf9",
   "metadata": {},
   "source": [
    "We see NZDCAD pair is negatively correlated with oil futrues. This means if NZDCAD gas a gain then the oil futures a loss. But according our data, it is not perfectly uncorrelated due to its distance to -1. There might seem some periods that both share the same market movement, yet in general the negative correlation presists as we see above that while NZDCAD yearly price went down the oil yearly price went down. "
   ]
  },
  {
   "cell_type": "code",
   "execution_count": null,
   "id": "de1e9515",
   "metadata": {},
   "outputs": [],
   "source": []
  }
 ],
 "metadata": {
  "kernelspec": {
   "display_name": "Python 3",
   "language": "python",
   "name": "python3"
  },
  "language_info": {
   "codemirror_mode": {
    "name": "ipython",
    "version": 3
   },
   "file_extension": ".py",
   "mimetype": "text/x-python",
   "name": "python",
   "nbconvert_exporter": "python",
   "pygments_lexer": "ipython3",
   "version": "3.8.8"
  }
 },
 "nbformat": 4,
 "nbformat_minor": 5
}
